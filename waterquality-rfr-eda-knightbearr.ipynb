{
 "cells": [
  {
   "cell_type": "markdown",
   "id": "c4a340f6",
   "metadata": {
    "papermill": {
     "duration": 0.039678,
     "end_time": "2021-08-15T10:11:23.590503",
     "exception": false,
     "start_time": "2021-08-15T10:11:23.550825",
     "status": "completed"
    },
    "tags": []
   },
   "source": [
    "# **Water Quality using Random Forest Classification - Knightbearr**"
   ]
  },
  {
   "cell_type": "markdown",
   "id": "cac1c333",
   "metadata": {
    "papermill": {
     "duration": 0.034855,
     "end_time": "2021-08-15T10:11:23.660827",
     "exception": false,
     "start_time": "2021-08-15T10:11:23.625972",
     "status": "completed"
    },
    "tags": []
   },
   "source": [
    "# **Workflow**\n",
    "\n",
    "1. Data Collection\n",
    "2. Data Cleaning & Checking\n",
    "3. EDA\n",
    "4. Splitting Data\n",
    "5. Oversampling model\n",
    "6. Modeling\n",
    "7. Prediction Score\n",
    "\n",
    "\n",
    "note : Sorry if my english is bad, and sorry if i had a mistake. thanks in advance!"
   ]
  },
  {
   "cell_type": "markdown",
   "id": "d00cbb35",
   "metadata": {
    "papermill": {
     "duration": 0.033508,
     "end_time": "2021-08-15T10:11:23.729135",
     "exception": false,
     "start_time": "2021-08-15T10:11:23.695627",
     "status": "completed"
    },
    "tags": []
   },
   "source": [
    "# **Import Libraries**\n",
    "\n",
    "import the module that we want to use for this research."
   ]
  },
  {
   "cell_type": "code",
   "execution_count": 1,
   "id": "77ae062c",
   "metadata": {
    "_cell_guid": "b1076dfc-b9ad-4769-8c92-a6c4dae69d19",
    "_uuid": "8f2839f25d086af736a60e9eeb907d3b93b6e0e5",
    "execution": {
     "iopub.execute_input": "2021-08-15T10:11:23.810350Z",
     "iopub.status.busy": "2021-08-15T10:11:23.809740Z",
     "iopub.status.idle": "2021-08-15T10:11:25.277746Z",
     "shell.execute_reply": "2021-08-15T10:11:25.278202Z",
     "shell.execute_reply.started": "2021-08-15T10:03:25.760234Z"
    },
    "papermill": {
     "duration": 1.514768,
     "end_time": "2021-08-15T10:11:25.278489",
     "exception": false,
     "start_time": "2021-08-15T10:11:23.763721",
     "status": "completed"
    },
    "tags": []
   },
   "outputs": [
    {
     "name": "stdout",
     "output_type": "stream",
     "text": [
      "/kaggle/input/water-potability/water_potability.csv\n"
     ]
    }
   ],
   "source": [
    "import pandas as pd\n",
    "import numpy as np\n",
    "import matplotlib.pyplot as plt\n",
    "import seaborn as sns\n",
    "from sklearn.model_selection import train_test_split\n",
    "from sklearn.ensemble import RandomForestClassifier\n",
    "from sklearn.feature_selection import mutual_info_regression\n",
    "from sklearn.pipeline import Pipeline\n",
    "from sklearn import preprocessing\n",
    "from sklearn import metrics\n",
    "from imblearn.over_sampling import SMOTE\n",
    "import os\n",
    "for dirname, _, filenames in os.walk('/kaggle/input'):\n",
    "    for filename in filenames:\n",
    "        print(os.path.join(dirname, filename))"
   ]
  },
  {
   "cell_type": "code",
   "execution_count": 2,
   "id": "07e73908",
   "metadata": {
    "execution": {
     "iopub.execute_input": "2021-08-15T10:11:25.353616Z",
     "iopub.status.busy": "2021-08-15T10:11:25.352836Z",
     "iopub.status.idle": "2021-08-15T10:11:25.355784Z",
     "shell.execute_reply": "2021-08-15T10:11:25.355175Z",
     "shell.execute_reply.started": "2021-08-15T10:03:25.779088Z"
    },
    "papermill": {
     "duration": 0.04301,
     "end_time": "2021-08-15T10:11:25.355921",
     "exception": false,
     "start_time": "2021-08-15T10:11:25.312911",
     "status": "completed"
    },
    "tags": []
   },
   "outputs": [],
   "source": [
    "pd.set_option('display.width', 150)\n",
    "pd.set_option('display.max_columns', 12)\n",
    "plt.style.use(\"seaborn-whitegrid\")\n",
    "sns.set_theme(color_codes=True, style='darkgrid', palette='deep', font='sans-serif')"
   ]
  },
  {
   "cell_type": "markdown",
   "id": "a337bf62",
   "metadata": {
    "papermill": {
     "duration": 0.034061,
     "end_time": "2021-08-15T10:11:25.424721",
     "exception": false,
     "start_time": "2021-08-15T10:11:25.390660",
     "status": "completed"
    },
    "tags": []
   },
   "source": [
    "# **Load The Dataset**\n",
    "\n",
    "Load the dataset that we want to research"
   ]
  },
  {
   "cell_type": "code",
   "execution_count": 3,
   "id": "c2ff0ee1",
   "metadata": {
    "execution": {
     "iopub.execute_input": "2021-08-15T10:11:25.497398Z",
     "iopub.status.busy": "2021-08-15T10:11:25.496749Z",
     "iopub.status.idle": "2021-08-15T10:11:25.524729Z",
     "shell.execute_reply": "2021-08-15T10:11:25.525274Z",
     "shell.execute_reply.started": "2021-08-15T10:03:25.791682Z"
    },
    "papermill": {
     "duration": 0.066932,
     "end_time": "2021-08-15T10:11:25.525451",
     "exception": false,
     "start_time": "2021-08-15T10:11:25.458519",
     "status": "completed"
    },
    "tags": []
   },
   "outputs": [],
   "source": [
    "waterData = pd.read_csv('../input/water-potability/water_potability.csv')"
   ]
  },
  {
   "cell_type": "markdown",
   "id": "f5d17c10",
   "metadata": {
    "papermill": {
     "duration": 0.034513,
     "end_time": "2021-08-15T10:11:25.594747",
     "exception": false,
     "start_time": "2021-08-15T10:11:25.560234",
     "status": "completed"
    },
    "tags": []
   },
   "source": [
    "# **Clean and Checking the Data**\n",
    "\n",
    "we must check the data every time we want to make a model, because this is the important thing, if you suddenly meet a bad dataset, wether you want it or not, you must clean the data."
   ]
  },
  {
   "cell_type": "code",
   "execution_count": 4,
   "id": "21180487",
   "metadata": {
    "execution": {
     "iopub.execute_input": "2021-08-15T10:11:25.667240Z",
     "iopub.status.busy": "2021-08-15T10:11:25.666605Z",
     "iopub.status.idle": "2021-08-15T10:11:25.694084Z",
     "shell.execute_reply": "2021-08-15T10:11:25.694626Z",
     "shell.execute_reply.started": "2021-08-15T10:03:25.814279Z"
    },
    "papermill": {
     "duration": 0.065522,
     "end_time": "2021-08-15T10:11:25.694801",
     "exception": false,
     "start_time": "2021-08-15T10:11:25.629279",
     "status": "completed"
    },
    "tags": []
   },
   "outputs": [
    {
     "data": {
      "text/html": [
       "<div>\n",
       "<style scoped>\n",
       "    .dataframe tbody tr th:only-of-type {\n",
       "        vertical-align: middle;\n",
       "    }\n",
       "\n",
       "    .dataframe tbody tr th {\n",
       "        vertical-align: top;\n",
       "    }\n",
       "\n",
       "    .dataframe thead th {\n",
       "        text-align: right;\n",
       "    }\n",
       "</style>\n",
       "<table border=\"1\" class=\"dataframe\">\n",
       "  <thead>\n",
       "    <tr style=\"text-align: right;\">\n",
       "      <th></th>\n",
       "      <th>ph</th>\n",
       "      <th>Hardness</th>\n",
       "      <th>Solids</th>\n",
       "      <th>Chloramines</th>\n",
       "      <th>Sulfate</th>\n",
       "      <th>Conductivity</th>\n",
       "      <th>Organic_carbon</th>\n",
       "      <th>Trihalomethanes</th>\n",
       "      <th>Turbidity</th>\n",
       "      <th>Potability</th>\n",
       "    </tr>\n",
       "  </thead>\n",
       "  <tbody>\n",
       "    <tr>\n",
       "      <th>0</th>\n",
       "      <td>NaN</td>\n",
       "      <td>204.890455</td>\n",
       "      <td>20791.318981</td>\n",
       "      <td>7.300212</td>\n",
       "      <td>368.516441</td>\n",
       "      <td>564.308654</td>\n",
       "      <td>10.379783</td>\n",
       "      <td>86.990970</td>\n",
       "      <td>2.963135</td>\n",
       "      <td>0</td>\n",
       "    </tr>\n",
       "    <tr>\n",
       "      <th>1</th>\n",
       "      <td>3.716080</td>\n",
       "      <td>129.422921</td>\n",
       "      <td>18630.057858</td>\n",
       "      <td>6.635246</td>\n",
       "      <td>NaN</td>\n",
       "      <td>592.885359</td>\n",
       "      <td>15.180013</td>\n",
       "      <td>56.329076</td>\n",
       "      <td>4.500656</td>\n",
       "      <td>0</td>\n",
       "    </tr>\n",
       "    <tr>\n",
       "      <th>2</th>\n",
       "      <td>8.099124</td>\n",
       "      <td>224.236259</td>\n",
       "      <td>19909.541732</td>\n",
       "      <td>9.275884</td>\n",
       "      <td>NaN</td>\n",
       "      <td>418.606213</td>\n",
       "      <td>16.868637</td>\n",
       "      <td>66.420093</td>\n",
       "      <td>3.055934</td>\n",
       "      <td>0</td>\n",
       "    </tr>\n",
       "    <tr>\n",
       "      <th>3</th>\n",
       "      <td>8.316766</td>\n",
       "      <td>214.373394</td>\n",
       "      <td>22018.417441</td>\n",
       "      <td>8.059332</td>\n",
       "      <td>356.886136</td>\n",
       "      <td>363.266516</td>\n",
       "      <td>18.436524</td>\n",
       "      <td>100.341674</td>\n",
       "      <td>4.628771</td>\n",
       "      <td>0</td>\n",
       "    </tr>\n",
       "    <tr>\n",
       "      <th>4</th>\n",
       "      <td>9.092223</td>\n",
       "      <td>181.101509</td>\n",
       "      <td>17978.986339</td>\n",
       "      <td>6.546600</td>\n",
       "      <td>310.135738</td>\n",
       "      <td>398.410813</td>\n",
       "      <td>11.558279</td>\n",
       "      <td>31.997993</td>\n",
       "      <td>4.075075</td>\n",
       "      <td>0</td>\n",
       "    </tr>\n",
       "  </tbody>\n",
       "</table>\n",
       "</div>"
      ],
      "text/plain": [
       "         ph    Hardness        Solids  Chloramines     Sulfate  Conductivity  Organic_carbon  Trihalomethanes  Turbidity  Potability\n",
       "0       NaN  204.890455  20791.318981     7.300212  368.516441    564.308654       10.379783        86.990970   2.963135           0\n",
       "1  3.716080  129.422921  18630.057858     6.635246         NaN    592.885359       15.180013        56.329076   4.500656           0\n",
       "2  8.099124  224.236259  19909.541732     9.275884         NaN    418.606213       16.868637        66.420093   3.055934           0\n",
       "3  8.316766  214.373394  22018.417441     8.059332  356.886136    363.266516       18.436524       100.341674   4.628771           0\n",
       "4  9.092223  181.101509  17978.986339     6.546600  310.135738    398.410813       11.558279        31.997993   4.075075           0"
      ]
     },
     "execution_count": 4,
     "metadata": {},
     "output_type": "execute_result"
    }
   ],
   "source": [
    "# Checking the first 5 rows of data\n",
    "waterData.head()"
   ]
  },
  {
   "cell_type": "code",
   "execution_count": 5,
   "id": "8ab9670e",
   "metadata": {
    "execution": {
     "iopub.execute_input": "2021-08-15T10:11:25.767909Z",
     "iopub.status.busy": "2021-08-15T10:11:25.767251Z",
     "iopub.status.idle": "2021-08-15T10:11:25.781767Z",
     "shell.execute_reply": "2021-08-15T10:11:25.782285Z",
     "shell.execute_reply.started": "2021-08-15T10:03:25.848480Z"
    },
    "papermill": {
     "duration": 0.052539,
     "end_time": "2021-08-15T10:11:25.782447",
     "exception": false,
     "start_time": "2021-08-15T10:11:25.729908",
     "status": "completed"
    },
    "tags": []
   },
   "outputs": [
    {
     "data": {
      "text/html": [
       "<div>\n",
       "<style scoped>\n",
       "    .dataframe tbody tr th:only-of-type {\n",
       "        vertical-align: middle;\n",
       "    }\n",
       "\n",
       "    .dataframe tbody tr th {\n",
       "        vertical-align: top;\n",
       "    }\n",
       "\n",
       "    .dataframe thead th {\n",
       "        text-align: right;\n",
       "    }\n",
       "</style>\n",
       "<table border=\"1\" class=\"dataframe\">\n",
       "  <thead>\n",
       "    <tr style=\"text-align: right;\">\n",
       "      <th></th>\n",
       "      <th>ph</th>\n",
       "      <th>Hardness</th>\n",
       "      <th>Solids</th>\n",
       "      <th>Chloramines</th>\n",
       "      <th>Sulfate</th>\n",
       "      <th>Conductivity</th>\n",
       "      <th>Organic_carbon</th>\n",
       "      <th>Trihalomethanes</th>\n",
       "      <th>Turbidity</th>\n",
       "      <th>Potability</th>\n",
       "    </tr>\n",
       "  </thead>\n",
       "  <tbody>\n",
       "    <tr>\n",
       "      <th>3271</th>\n",
       "      <td>4.668102</td>\n",
       "      <td>193.681735</td>\n",
       "      <td>47580.991603</td>\n",
       "      <td>7.166639</td>\n",
       "      <td>359.948574</td>\n",
       "      <td>526.424171</td>\n",
       "      <td>13.894419</td>\n",
       "      <td>66.687695</td>\n",
       "      <td>4.435821</td>\n",
       "      <td>1</td>\n",
       "    </tr>\n",
       "    <tr>\n",
       "      <th>3272</th>\n",
       "      <td>7.808856</td>\n",
       "      <td>193.553212</td>\n",
       "      <td>17329.802160</td>\n",
       "      <td>8.061362</td>\n",
       "      <td>NaN</td>\n",
       "      <td>392.449580</td>\n",
       "      <td>19.903225</td>\n",
       "      <td>NaN</td>\n",
       "      <td>2.798243</td>\n",
       "      <td>1</td>\n",
       "    </tr>\n",
       "    <tr>\n",
       "      <th>3273</th>\n",
       "      <td>9.419510</td>\n",
       "      <td>175.762646</td>\n",
       "      <td>33155.578218</td>\n",
       "      <td>7.350233</td>\n",
       "      <td>NaN</td>\n",
       "      <td>432.044783</td>\n",
       "      <td>11.039070</td>\n",
       "      <td>69.845400</td>\n",
       "      <td>3.298875</td>\n",
       "      <td>1</td>\n",
       "    </tr>\n",
       "    <tr>\n",
       "      <th>3274</th>\n",
       "      <td>5.126763</td>\n",
       "      <td>230.603758</td>\n",
       "      <td>11983.869376</td>\n",
       "      <td>6.303357</td>\n",
       "      <td>NaN</td>\n",
       "      <td>402.883113</td>\n",
       "      <td>11.168946</td>\n",
       "      <td>77.488213</td>\n",
       "      <td>4.708658</td>\n",
       "      <td>1</td>\n",
       "    </tr>\n",
       "    <tr>\n",
       "      <th>3275</th>\n",
       "      <td>7.874671</td>\n",
       "      <td>195.102299</td>\n",
       "      <td>17404.177061</td>\n",
       "      <td>7.509306</td>\n",
       "      <td>NaN</td>\n",
       "      <td>327.459760</td>\n",
       "      <td>16.140368</td>\n",
       "      <td>78.698446</td>\n",
       "      <td>2.309149</td>\n",
       "      <td>1</td>\n",
       "    </tr>\n",
       "  </tbody>\n",
       "</table>\n",
       "</div>"
      ],
      "text/plain": [
       "            ph    Hardness        Solids  Chloramines     Sulfate  Conductivity  Organic_carbon  Trihalomethanes  Turbidity  Potability\n",
       "3271  4.668102  193.681735  47580.991603     7.166639  359.948574    526.424171       13.894419        66.687695   4.435821           1\n",
       "3272  7.808856  193.553212  17329.802160     8.061362         NaN    392.449580       19.903225              NaN   2.798243           1\n",
       "3273  9.419510  175.762646  33155.578218     7.350233         NaN    432.044783       11.039070        69.845400   3.298875           1\n",
       "3274  5.126763  230.603758  11983.869376     6.303357         NaN    402.883113       11.168946        77.488213   4.708658           1\n",
       "3275  7.874671  195.102299  17404.177061     7.509306         NaN    327.459760       16.140368        78.698446   2.309149           1"
      ]
     },
     "execution_count": 5,
     "metadata": {},
     "output_type": "execute_result"
    }
   ],
   "source": [
    "# Checking the last 5 rows of data\n",
    "waterData.tail()"
   ]
  },
  {
   "cell_type": "code",
   "execution_count": 6,
   "id": "1b65227a",
   "metadata": {
    "execution": {
     "iopub.execute_input": "2021-08-15T10:11:25.855957Z",
     "iopub.status.busy": "2021-08-15T10:11:25.855314Z",
     "iopub.status.idle": "2021-08-15T10:11:25.900774Z",
     "shell.execute_reply": "2021-08-15T10:11:25.901272Z",
     "shell.execute_reply.started": "2021-08-15T10:03:25.868719Z"
    },
    "papermill": {
     "duration": 0.083749,
     "end_time": "2021-08-15T10:11:25.901460",
     "exception": false,
     "start_time": "2021-08-15T10:11:25.817711",
     "status": "completed"
    },
    "tags": []
   },
   "outputs": [
    {
     "data": {
      "text/html": [
       "<div>\n",
       "<style scoped>\n",
       "    .dataframe tbody tr th:only-of-type {\n",
       "        vertical-align: middle;\n",
       "    }\n",
       "\n",
       "    .dataframe tbody tr th {\n",
       "        vertical-align: top;\n",
       "    }\n",
       "\n",
       "    .dataframe thead th {\n",
       "        text-align: right;\n",
       "    }\n",
       "</style>\n",
       "<table border=\"1\" class=\"dataframe\">\n",
       "  <thead>\n",
       "    <tr style=\"text-align: right;\">\n",
       "      <th></th>\n",
       "      <th>ph</th>\n",
       "      <th>Hardness</th>\n",
       "      <th>Solids</th>\n",
       "      <th>Chloramines</th>\n",
       "      <th>Sulfate</th>\n",
       "      <th>Conductivity</th>\n",
       "      <th>Organic_carbon</th>\n",
       "      <th>Trihalomethanes</th>\n",
       "      <th>Turbidity</th>\n",
       "      <th>Potability</th>\n",
       "    </tr>\n",
       "  </thead>\n",
       "  <tbody>\n",
       "    <tr>\n",
       "      <th>count</th>\n",
       "      <td>2785.000000</td>\n",
       "      <td>3276.000000</td>\n",
       "      <td>3276.000000</td>\n",
       "      <td>3276.000000</td>\n",
       "      <td>2495.000000</td>\n",
       "      <td>3276.000000</td>\n",
       "      <td>3276.000000</td>\n",
       "      <td>3114.000000</td>\n",
       "      <td>3276.000000</td>\n",
       "      <td>3276.000000</td>\n",
       "    </tr>\n",
       "    <tr>\n",
       "      <th>mean</th>\n",
       "      <td>7.080795</td>\n",
       "      <td>196.369496</td>\n",
       "      <td>22014.092526</td>\n",
       "      <td>7.122277</td>\n",
       "      <td>333.775777</td>\n",
       "      <td>426.205111</td>\n",
       "      <td>14.284970</td>\n",
       "      <td>66.396293</td>\n",
       "      <td>3.966786</td>\n",
       "      <td>0.390110</td>\n",
       "    </tr>\n",
       "    <tr>\n",
       "      <th>std</th>\n",
       "      <td>1.594320</td>\n",
       "      <td>32.879761</td>\n",
       "      <td>8768.570828</td>\n",
       "      <td>1.583085</td>\n",
       "      <td>41.416840</td>\n",
       "      <td>80.824064</td>\n",
       "      <td>3.308162</td>\n",
       "      <td>16.175008</td>\n",
       "      <td>0.780382</td>\n",
       "      <td>0.487849</td>\n",
       "    </tr>\n",
       "    <tr>\n",
       "      <th>min</th>\n",
       "      <td>0.000000</td>\n",
       "      <td>47.432000</td>\n",
       "      <td>320.942611</td>\n",
       "      <td>0.352000</td>\n",
       "      <td>129.000000</td>\n",
       "      <td>181.483754</td>\n",
       "      <td>2.200000</td>\n",
       "      <td>0.738000</td>\n",
       "      <td>1.450000</td>\n",
       "      <td>0.000000</td>\n",
       "    </tr>\n",
       "    <tr>\n",
       "      <th>25%</th>\n",
       "      <td>6.093092</td>\n",
       "      <td>176.850538</td>\n",
       "      <td>15666.690297</td>\n",
       "      <td>6.127421</td>\n",
       "      <td>307.699498</td>\n",
       "      <td>365.734414</td>\n",
       "      <td>12.065801</td>\n",
       "      <td>55.844536</td>\n",
       "      <td>3.439711</td>\n",
       "      <td>0.000000</td>\n",
       "    </tr>\n",
       "    <tr>\n",
       "      <th>50%</th>\n",
       "      <td>7.036752</td>\n",
       "      <td>196.967627</td>\n",
       "      <td>20927.833607</td>\n",
       "      <td>7.130299</td>\n",
       "      <td>333.073546</td>\n",
       "      <td>421.884968</td>\n",
       "      <td>14.218338</td>\n",
       "      <td>66.622485</td>\n",
       "      <td>3.955028</td>\n",
       "      <td>0.000000</td>\n",
       "    </tr>\n",
       "    <tr>\n",
       "      <th>75%</th>\n",
       "      <td>8.062066</td>\n",
       "      <td>216.667456</td>\n",
       "      <td>27332.762127</td>\n",
       "      <td>8.114887</td>\n",
       "      <td>359.950170</td>\n",
       "      <td>481.792304</td>\n",
       "      <td>16.557652</td>\n",
       "      <td>77.337473</td>\n",
       "      <td>4.500320</td>\n",
       "      <td>1.000000</td>\n",
       "    </tr>\n",
       "    <tr>\n",
       "      <th>max</th>\n",
       "      <td>14.000000</td>\n",
       "      <td>323.124000</td>\n",
       "      <td>61227.196008</td>\n",
       "      <td>13.127000</td>\n",
       "      <td>481.030642</td>\n",
       "      <td>753.342620</td>\n",
       "      <td>28.300000</td>\n",
       "      <td>124.000000</td>\n",
       "      <td>6.739000</td>\n",
       "      <td>1.000000</td>\n",
       "    </tr>\n",
       "  </tbody>\n",
       "</table>\n",
       "</div>"
      ],
      "text/plain": [
       "                ph     Hardness        Solids  Chloramines      Sulfate  Conductivity  Organic_carbon  Trihalomethanes    Turbidity   Potability\n",
       "count  2785.000000  3276.000000   3276.000000  3276.000000  2495.000000   3276.000000     3276.000000      3114.000000  3276.000000  3276.000000\n",
       "mean      7.080795   196.369496  22014.092526     7.122277   333.775777    426.205111       14.284970        66.396293     3.966786     0.390110\n",
       "std       1.594320    32.879761   8768.570828     1.583085    41.416840     80.824064        3.308162        16.175008     0.780382     0.487849\n",
       "min       0.000000    47.432000    320.942611     0.352000   129.000000    181.483754        2.200000         0.738000     1.450000     0.000000\n",
       "25%       6.093092   176.850538  15666.690297     6.127421   307.699498    365.734414       12.065801        55.844536     3.439711     0.000000\n",
       "50%       7.036752   196.967627  20927.833607     7.130299   333.073546    421.884968       14.218338        66.622485     3.955028     0.000000\n",
       "75%       8.062066   216.667456  27332.762127     8.114887   359.950170    481.792304       16.557652        77.337473     4.500320     1.000000\n",
       "max      14.000000   323.124000  61227.196008    13.127000   481.030642    753.342620       28.300000       124.000000     6.739000     1.000000"
      ]
     },
     "execution_count": 6,
     "metadata": {},
     "output_type": "execute_result"
    }
   ],
   "source": [
    "# Getting the statistical measure info\n",
    "waterData.describe()"
   ]
  },
  {
   "cell_type": "code",
   "execution_count": 7,
   "id": "cf86306a",
   "metadata": {
    "execution": {
     "iopub.execute_input": "2021-08-15T10:11:25.977149Z",
     "iopub.status.busy": "2021-08-15T10:11:25.976558Z",
     "iopub.status.idle": "2021-08-15T10:11:25.992488Z",
     "shell.execute_reply": "2021-08-15T10:11:25.993005Z",
     "shell.execute_reply.started": "2021-08-15T10:03:25.922345Z"
    },
    "papermill": {
     "duration": 0.055321,
     "end_time": "2021-08-15T10:11:25.993172",
     "exception": false,
     "start_time": "2021-08-15T10:11:25.937851",
     "status": "completed"
    },
    "tags": []
   },
   "outputs": [
    {
     "name": "stdout",
     "output_type": "stream",
     "text": [
      "<class 'pandas.core.frame.DataFrame'>\n",
      "RangeIndex: 3276 entries, 0 to 3275\n",
      "Data columns (total 10 columns):\n",
      " #   Column           Non-Null Count  Dtype  \n",
      "---  ------           --------------  -----  \n",
      " 0   ph               2785 non-null   float64\n",
      " 1   Hardness         3276 non-null   float64\n",
      " 2   Solids           3276 non-null   float64\n",
      " 3   Chloramines      3276 non-null   float64\n",
      " 4   Sulfate          2495 non-null   float64\n",
      " 5   Conductivity     3276 non-null   float64\n",
      " 6   Organic_carbon   3276 non-null   float64\n",
      " 7   Trihalomethanes  3114 non-null   float64\n",
      " 8   Turbidity        3276 non-null   float64\n",
      " 9   Potability       3276 non-null   int64  \n",
      "dtypes: float64(9), int64(1)\n",
      "memory usage: 256.1 KB\n"
     ]
    }
   ],
   "source": [
    "# Getting the information about the dataset\n",
    "waterData.info()"
   ]
  },
  {
   "cell_type": "code",
   "execution_count": 8,
   "id": "5ee4a255",
   "metadata": {
    "execution": {
     "iopub.execute_input": "2021-08-15T10:11:26.068496Z",
     "iopub.status.busy": "2021-08-15T10:11:26.067906Z",
     "iopub.status.idle": "2021-08-15T10:11:26.074872Z",
     "shell.execute_reply": "2021-08-15T10:11:26.075360Z",
     "shell.execute_reply.started": "2021-08-15T10:03:25.941378Z"
    },
    "papermill": {
     "duration": 0.046087,
     "end_time": "2021-08-15T10:11:26.075527",
     "exception": false,
     "start_time": "2021-08-15T10:11:26.029440",
     "status": "completed"
    },
    "tags": []
   },
   "outputs": [
    {
     "data": {
      "text/plain": [
       "ph                 491\n",
       "Hardness             0\n",
       "Solids               0\n",
       "Chloramines          0\n",
       "Sulfate            781\n",
       "Conductivity         0\n",
       "Organic_carbon       0\n",
       "Trihalomethanes    162\n",
       "Turbidity            0\n",
       "Potability           0\n",
       "dtype: int64"
      ]
     },
     "execution_count": 8,
     "metadata": {},
     "output_type": "execute_result"
    }
   ],
   "source": [
    "# Chechking the null data\n",
    "waterData.isnull().sum()"
   ]
  },
  {
   "cell_type": "code",
   "execution_count": 9,
   "id": "c972f744",
   "metadata": {
    "execution": {
     "iopub.execute_input": "2021-08-15T10:11:26.154612Z",
     "iopub.status.busy": "2021-08-15T10:11:26.153893Z",
     "iopub.status.idle": "2021-08-15T10:11:26.158085Z",
     "shell.execute_reply": "2021-08-15T10:11:26.157415Z",
     "shell.execute_reply.started": "2021-08-15T10:03:25.952656Z"
    },
    "papermill": {
     "duration": 0.045842,
     "end_time": "2021-08-15T10:11:26.158229",
     "exception": false,
     "start_time": "2021-08-15T10:11:26.112387",
     "status": "completed"
    },
    "tags": []
   },
   "outputs": [
    {
     "data": {
      "text/plain": [
       "(3276, 10)"
      ]
     },
     "execution_count": 9,
     "metadata": {},
     "output_type": "execute_result"
    }
   ],
   "source": [
    "# Checking the shape of data\n",
    "waterData.shape"
   ]
  },
  {
   "cell_type": "markdown",
   "id": "9f40f93d",
   "metadata": {
    "papermill": {
     "duration": 0.036729,
     "end_time": "2021-08-15T10:11:26.232533",
     "exception": false,
     "start_time": "2021-08-15T10:11:26.195804",
     "status": "completed"
    },
    "tags": []
   },
   "source": [
    "**First**, we overcome the null values in the ph column first, and we know that the **ph values less than 6.5 and more than 8.5 are not suitable** for consumption, and the **range of pH that is within the WHO standard is 6.52 - 6.83** , and also we have obtained statistical info from the data above, that the **mean value at pH is 7** which is still within the scope of water that is safe for drinking by humans, so we will fill this empty ph value with the mean value of this ph to improve our model"
   ]
  },
  {
   "cell_type": "code",
   "execution_count": 10,
   "id": "46e98030",
   "metadata": {
    "execution": {
     "iopub.execute_input": "2021-08-15T10:11:26.316886Z",
     "iopub.status.busy": "2021-08-15T10:11:26.316065Z",
     "iopub.status.idle": "2021-08-15T10:11:26.321657Z",
     "shell.execute_reply": "2021-08-15T10:11:26.321027Z",
     "shell.execute_reply.started": "2021-08-15T10:03:26.014197Z"
    },
    "papermill": {
     "duration": 0.052285,
     "end_time": "2021-08-15T10:11:26.321811",
     "exception": false,
     "start_time": "2021-08-15T10:11:26.269526",
     "status": "completed"
    },
    "tags": []
   },
   "outputs": [
    {
     "name": "stdout",
     "output_type": "stream",
     "text": [
      "Null Value : 0\n",
      "\n"
     ]
    },
    {
     "data": {
      "text/plain": [
       "0       7.080795\n",
       "1       3.716080\n",
       "2       8.099124\n",
       "3       8.316766\n",
       "4       9.092223\n",
       "          ...   \n",
       "3271    4.668102\n",
       "3272    7.808856\n",
       "3273    9.419510\n",
       "3274    5.126763\n",
       "3275    7.874671\n",
       "Name: ph, Length: 3276, dtype: float64"
      ]
     },
     "execution_count": 10,
     "metadata": {},
     "output_type": "execute_result"
    }
   ],
   "source": [
    "# Create a new variable named meanPh to hold the value of mean in ph\n",
    "meanPh = waterData['ph'].mean()\n",
    "\n",
    "# Fill the blank/null data ph with value of meanPh\n",
    "waterData['ph'] = waterData['ph'].fillna(meanPh)\n",
    "\n",
    "# Check the null value and print\n",
    "print(f'Null Value : {waterData.ph.isnull().sum()}\\n')\n",
    "\n",
    "# Check the data ph\n",
    "waterData['ph']"
   ]
  },
  {
   "cell_type": "markdown",
   "id": "f2022142",
   "metadata": {
    "papermill": {
     "duration": 0.038325,
     "end_time": "2021-08-15T10:11:26.398111",
     "exception": false,
     "start_time": "2021-08-15T10:11:26.359786",
     "status": "completed"
    },
    "tags": []
   },
   "source": [
    "**Now**, we overcome the null value in sulfate, and we know that **Sulfate is one of the important ions in the availability of water** because of its important effect for humans when it is available in large quantities. **The maximum sulfate limit in water is about 250 mg/L** for water for human consumption. if we see the statistics info above, **the mean of the Sulfate is 333mg/L**, which mean, that's not good for consumption, and we know that, why the mean value is 333ml/L? this happens because there are so many null values."
   ]
  },
  {
   "cell_type": "code",
   "execution_count": 11,
   "id": "c03651a1",
   "metadata": {
    "execution": {
     "iopub.execute_input": "2021-08-15T10:11:26.484340Z",
     "iopub.status.busy": "2021-08-15T10:11:26.483500Z",
     "iopub.status.idle": "2021-08-15T10:11:26.489766Z",
     "shell.execute_reply": "2021-08-15T10:11:26.488667Z",
     "shell.execute_reply.started": "2021-08-15T10:03:29.816821Z"
    },
    "papermill": {
     "duration": 0.053892,
     "end_time": "2021-08-15T10:11:26.490019",
     "exception": false,
     "start_time": "2021-08-15T10:11:26.436127",
     "status": "completed"
    },
    "tags": []
   },
   "outputs": [
    {
     "name": "stdout",
     "output_type": "stream",
     "text": [
      "Null Value : 0\n"
     ]
    },
    {
     "data": {
      "text/plain": [
       "0       368.516441\n",
       "1       204.775777\n",
       "2       204.775777\n",
       "3       356.886136\n",
       "4       310.135738\n",
       "           ...    \n",
       "3271    359.948574\n",
       "3272    204.775777\n",
       "3273    204.775777\n",
       "3274    204.775777\n",
       "3275    204.775777\n",
       "Name: Sulfate, Length: 3276, dtype: float64"
      ]
     },
     "execution_count": 11,
     "metadata": {},
     "output_type": "execute_result"
    }
   ],
   "source": [
    "# Created a new variable named waterSulfate tohold the value\n",
    "waterSulfate = (waterData.Sulfate.mean() - waterData.Sulfate.min())\n",
    "\n",
    "# Fill the blank/null dataSulfate with the value of waterSulfate\n",
    "waterData['Sulfate'] = waterData['Sulfate'].fillna(waterSulfate)\n",
    "\n",
    "# Check the null value and print\n",
    "print(f'Null Value : {waterData.Sulfate.isnull().sum()}')\n",
    "\n",
    "# Check the data Sulfate\n",
    "waterData['Sulfate']"
   ]
  },
  {
   "cell_type": "markdown",
   "id": "47213c81",
   "metadata": {
    "papermill": {
     "duration": 0.038459,
     "end_time": "2021-08-15T10:11:26.569348",
     "exception": false,
     "start_time": "2021-08-15T10:11:26.530889",
     "status": "completed"
    },
    "tags": []
   },
   "source": [
    "**And last**, we deal with Trihalomethanes, what are Trihalomethanes ? **Trihalomethanes (THMs) are among the most dangerous chemical compounds** that find their way into the water supply. The concentration of THM in drinking water varies according to the level of organic matter in the water, the amount of chlorine required to treat the water, and the temperature of the treated water. **THM levels up to 80 ppm are considered safe** in drinking water. and if we see the statistical measure above, we can see the max value of thm is so high almost doubled value of thm, which that means is bad for consume.\n"
   ]
  },
  {
   "cell_type": "code",
   "execution_count": 12,
   "id": "aa77bd4f",
   "metadata": {
    "execution": {
     "iopub.execute_input": "2021-08-15T10:11:26.654306Z",
     "iopub.status.busy": "2021-08-15T10:11:26.650831Z",
     "iopub.status.idle": "2021-08-15T10:11:26.657634Z",
     "shell.execute_reply": "2021-08-15T10:11:26.658159Z",
     "shell.execute_reply.started": "2021-08-15T10:03:29.830772Z"
    },
    "papermill": {
     "duration": 0.050162,
     "end_time": "2021-08-15T10:11:26.658319",
     "exception": false,
     "start_time": "2021-08-15T10:11:26.608157",
     "status": "completed"
    },
    "tags": []
   },
   "outputs": [
    {
     "name": "stdout",
     "output_type": "stream",
     "text": [
      "Null Value : 0\n"
     ]
    },
    {
     "data": {
      "text/plain": [
       "0        86.990970\n",
       "1        56.329076\n",
       "2        66.420093\n",
       "3       100.341674\n",
       "4        31.997993\n",
       "           ...    \n",
       "3271     66.687695\n",
       "3272     66.396293\n",
       "3273     69.845400\n",
       "3274     77.488213\n",
       "3275     78.698446\n",
       "Name: Trihalomethanes, Length: 3276, dtype: float64"
      ]
     },
     "execution_count": 12,
     "metadata": {},
     "output_type": "execute_result"
    }
   ],
   "source": [
    "# Created a new variable named waterTrihalomethanes to hold the value\n",
    "waterTrihalomethanes = waterData.Trihalomethanes.mean()\n",
    "\n",
    "# Fill the blank/null data Trihalomethanes with the value of waterTrihalomethanes\n",
    "waterData['Trihalomethanes'] = waterData['Trihalomethanes'].fillna(waterTrihalomethanes)\n",
    "\n",
    "# Check the null value and print\n",
    "print(f'Null Value : {waterData.Trihalomethanes.isnull().sum()}')\n",
    "\n",
    "# Check the data Sulfate\n",
    "waterData['Trihalomethanes']"
   ]
  },
  {
   "cell_type": "markdown",
   "id": "2632bdab",
   "metadata": {
    "papermill": {
     "duration": 0.038479,
     "end_time": "2021-08-15T10:11:26.736117",
     "exception": false,
     "start_time": "2021-08-15T10:11:26.697638",
     "status": "completed"
    },
    "tags": []
   },
   "source": [
    "**Checking again**"
   ]
  },
  {
   "cell_type": "code",
   "execution_count": 13,
   "id": "55566c8a",
   "metadata": {
    "execution": {
     "iopub.execute_input": "2021-08-15T10:11:26.816889Z",
     "iopub.status.busy": "2021-08-15T10:11:26.816252Z",
     "iopub.status.idle": "2021-08-15T10:11:26.828382Z",
     "shell.execute_reply": "2021-08-15T10:11:26.828897Z",
     "shell.execute_reply.started": "2021-08-15T10:03:29.851052Z"
    },
    "papermill": {
     "duration": 0.05405,
     "end_time": "2021-08-15T10:11:26.829082",
     "exception": false,
     "start_time": "2021-08-15T10:11:26.775032",
     "status": "completed"
    },
    "tags": []
   },
   "outputs": [
    {
     "name": "stdout",
     "output_type": "stream",
     "text": [
      "Isnull ? :\n",
      "ph                 0\n",
      "Hardness           0\n",
      "Solids             0\n",
      "Chloramines        0\n",
      "Sulfate            0\n",
      "Conductivity       0\n",
      "Organic_carbon     0\n",
      "Trihalomethanes    0\n",
      "Turbidity          0\n",
      "Potability         0\n",
      "dtype: int64\n",
      "\n",
      "Is all the data is True ? :\n",
      "ph                 True\n",
      "Hardness           True\n",
      "Solids             True\n",
      "Chloramines        True\n",
      "Sulfate            True\n",
      "Conductivity       True\n",
      "Organic_carbon     True\n",
      "Trihalomethanes    True\n",
      "Turbidity          True\n",
      "Potability         True\n",
      "dtype: bool\n",
      "\n",
      "Potability :\n",
      "0    1998\n",
      "1    1278\n",
      "Name: Potability, dtype: int64\n",
      "\n",
      "Data Shape : (3276, 10)\n"
     ]
    }
   ],
   "source": [
    "# Checking data and print\n",
    "print(f'Isnull ? :\\n{waterData.isnull().sum()}\\n')\n",
    "\n",
    "# Checking data and print\n",
    "print(f'Is all the data is True ? :\\n{waterData.any()}\\n')\n",
    "\n",
    "# Count the value and print\n",
    "print(f'Potability :\\n{waterData.Potability.value_counts()}\\n')\n",
    "\n",
    "# Check the shape and print\n",
    "print(f'Data Shape : {waterData.shape}')"
   ]
  },
  {
   "cell_type": "code",
   "execution_count": 14,
   "id": "1f2f2ed8",
   "metadata": {
    "execution": {
     "iopub.execute_input": "2021-08-15T10:11:26.916581Z",
     "iopub.status.busy": "2021-08-15T10:11:26.915917Z",
     "iopub.status.idle": "2021-08-15T10:11:26.950742Z",
     "shell.execute_reply": "2021-08-15T10:11:26.950196Z",
     "shell.execute_reply.started": "2021-08-15T10:03:29.865922Z"
    },
    "papermill": {
     "duration": 0.082853,
     "end_time": "2021-08-15T10:11:26.950879",
     "exception": false,
     "start_time": "2021-08-15T10:11:26.868026",
     "status": "completed"
    },
    "tags": []
   },
   "outputs": [
    {
     "data": {
      "text/html": [
       "<div>\n",
       "<style scoped>\n",
       "    .dataframe tbody tr th:only-of-type {\n",
       "        vertical-align: middle;\n",
       "    }\n",
       "\n",
       "    .dataframe tbody tr th {\n",
       "        vertical-align: top;\n",
       "    }\n",
       "\n",
       "    .dataframe thead th {\n",
       "        text-align: right;\n",
       "    }\n",
       "</style>\n",
       "<table border=\"1\" class=\"dataframe\">\n",
       "  <thead>\n",
       "    <tr style=\"text-align: right;\">\n",
       "      <th></th>\n",
       "      <th>ph</th>\n",
       "      <th>Hardness</th>\n",
       "      <th>Solids</th>\n",
       "      <th>Chloramines</th>\n",
       "      <th>Sulfate</th>\n",
       "      <th>Conductivity</th>\n",
       "      <th>Organic_carbon</th>\n",
       "      <th>Trihalomethanes</th>\n",
       "      <th>Turbidity</th>\n",
       "      <th>Potability</th>\n",
       "    </tr>\n",
       "  </thead>\n",
       "  <tbody>\n",
       "    <tr>\n",
       "      <th>count</th>\n",
       "      <td>3276.000000</td>\n",
       "      <td>3276.000000</td>\n",
       "      <td>3276.000000</td>\n",
       "      <td>3276.000000</td>\n",
       "      <td>3276.000000</td>\n",
       "      <td>3276.000000</td>\n",
       "      <td>3276.000000</td>\n",
       "      <td>3276.000000</td>\n",
       "      <td>3276.000000</td>\n",
       "      <td>3276.000000</td>\n",
       "    </tr>\n",
       "    <tr>\n",
       "      <th>mean</th>\n",
       "      <td>7.080795</td>\n",
       "      <td>196.369496</td>\n",
       "      <td>22014.092526</td>\n",
       "      <td>7.122277</td>\n",
       "      <td>303.022114</td>\n",
       "      <td>426.205111</td>\n",
       "      <td>14.284970</td>\n",
       "      <td>66.396293</td>\n",
       "      <td>3.966786</td>\n",
       "      <td>0.390110</td>\n",
       "    </tr>\n",
       "    <tr>\n",
       "      <th>std</th>\n",
       "      <td>1.469956</td>\n",
       "      <td>32.879761</td>\n",
       "      <td>8768.570828</td>\n",
       "      <td>1.583085</td>\n",
       "      <td>65.792444</td>\n",
       "      <td>80.824064</td>\n",
       "      <td>3.308162</td>\n",
       "      <td>15.769881</td>\n",
       "      <td>0.780382</td>\n",
       "      <td>0.487849</td>\n",
       "    </tr>\n",
       "    <tr>\n",
       "      <th>min</th>\n",
       "      <td>0.000000</td>\n",
       "      <td>47.432000</td>\n",
       "      <td>320.942611</td>\n",
       "      <td>0.352000</td>\n",
       "      <td>129.000000</td>\n",
       "      <td>181.483754</td>\n",
       "      <td>2.200000</td>\n",
       "      <td>0.738000</td>\n",
       "      <td>1.450000</td>\n",
       "      <td>0.000000</td>\n",
       "    </tr>\n",
       "    <tr>\n",
       "      <th>25%</th>\n",
       "      <td>6.277673</td>\n",
       "      <td>176.850538</td>\n",
       "      <td>15666.690297</td>\n",
       "      <td>6.127421</td>\n",
       "      <td>240.722848</td>\n",
       "      <td>365.734414</td>\n",
       "      <td>12.065801</td>\n",
       "      <td>56.647656</td>\n",
       "      <td>3.439711</td>\n",
       "      <td>0.000000</td>\n",
       "    </tr>\n",
       "    <tr>\n",
       "      <th>50%</th>\n",
       "      <td>7.080795</td>\n",
       "      <td>196.967627</td>\n",
       "      <td>20927.833607</td>\n",
       "      <td>7.130299</td>\n",
       "      <td>318.660382</td>\n",
       "      <td>421.884968</td>\n",
       "      <td>14.218338</td>\n",
       "      <td>66.396293</td>\n",
       "      <td>3.955028</td>\n",
       "      <td>0.000000</td>\n",
       "    </tr>\n",
       "    <tr>\n",
       "      <th>75%</th>\n",
       "      <td>7.870050</td>\n",
       "      <td>216.667456</td>\n",
       "      <td>27332.762127</td>\n",
       "      <td>8.114887</td>\n",
       "      <td>350.385756</td>\n",
       "      <td>481.792304</td>\n",
       "      <td>16.557652</td>\n",
       "      <td>76.666609</td>\n",
       "      <td>4.500320</td>\n",
       "      <td>1.000000</td>\n",
       "    </tr>\n",
       "    <tr>\n",
       "      <th>max</th>\n",
       "      <td>14.000000</td>\n",
       "      <td>323.124000</td>\n",
       "      <td>61227.196008</td>\n",
       "      <td>13.127000</td>\n",
       "      <td>481.030642</td>\n",
       "      <td>753.342620</td>\n",
       "      <td>28.300000</td>\n",
       "      <td>124.000000</td>\n",
       "      <td>6.739000</td>\n",
       "      <td>1.000000</td>\n",
       "    </tr>\n",
       "  </tbody>\n",
       "</table>\n",
       "</div>"
      ],
      "text/plain": [
       "                ph     Hardness        Solids  Chloramines      Sulfate  Conductivity  Organic_carbon  Trihalomethanes    Turbidity   Potability\n",
       "count  3276.000000  3276.000000   3276.000000  3276.000000  3276.000000   3276.000000     3276.000000      3276.000000  3276.000000  3276.000000\n",
       "mean      7.080795   196.369496  22014.092526     7.122277   303.022114    426.205111       14.284970        66.396293     3.966786     0.390110\n",
       "std       1.469956    32.879761   8768.570828     1.583085    65.792444     80.824064        3.308162        15.769881     0.780382     0.487849\n",
       "min       0.000000    47.432000    320.942611     0.352000   129.000000    181.483754        2.200000         0.738000     1.450000     0.000000\n",
       "25%       6.277673   176.850538  15666.690297     6.127421   240.722848    365.734414       12.065801        56.647656     3.439711     0.000000\n",
       "50%       7.080795   196.967627  20927.833607     7.130299   318.660382    421.884968       14.218338        66.396293     3.955028     0.000000\n",
       "75%       7.870050   216.667456  27332.762127     8.114887   350.385756    481.792304       16.557652        76.666609     4.500320     1.000000\n",
       "max      14.000000   323.124000  61227.196008    13.127000   481.030642    753.342620       28.300000       124.000000     6.739000     1.000000"
      ]
     },
     "execution_count": 14,
     "metadata": {},
     "output_type": "execute_result"
    }
   ],
   "source": [
    "# Getting the statistical measure info\n",
    "waterData.describe()"
   ]
  },
  {
   "cell_type": "markdown",
   "id": "1935836a",
   "metadata": {
    "papermill": {
     "duration": 0.038825,
     "end_time": "2021-08-15T10:11:27.029067",
     "exception": false,
     "start_time": "2021-08-15T10:11:26.990242",
     "status": "completed"
    },
    "tags": []
   },
   "source": [
    "# **EDA**\n",
    "\n",
    "analyze and investigate data sets and summarize their main characteristics, often employing data visualization methods."
   ]
  },
  {
   "cell_type": "code",
   "execution_count": 15,
   "id": "537f8a82",
   "metadata": {
    "execution": {
     "iopub.execute_input": "2021-08-15T10:11:27.115048Z",
     "iopub.status.busy": "2021-08-15T10:11:27.114364Z",
     "iopub.status.idle": "2021-08-15T10:11:27.132867Z",
     "shell.execute_reply": "2021-08-15T10:11:27.132367Z",
     "shell.execute_reply.started": "2021-08-15T10:03:29.911792Z"
    },
    "papermill": {
     "duration": 0.064076,
     "end_time": "2021-08-15T10:11:27.133010",
     "exception": false,
     "start_time": "2021-08-15T10:11:27.068934",
     "status": "completed"
    },
    "tags": []
   },
   "outputs": [
    {
     "data": {
      "text/html": [
       "<div>\n",
       "<style scoped>\n",
       "    .dataframe tbody tr th:only-of-type {\n",
       "        vertical-align: middle;\n",
       "    }\n",
       "\n",
       "    .dataframe tbody tr th {\n",
       "        vertical-align: top;\n",
       "    }\n",
       "\n",
       "    .dataframe thead th {\n",
       "        text-align: right;\n",
       "    }\n",
       "</style>\n",
       "<table border=\"1\" class=\"dataframe\">\n",
       "  <thead>\n",
       "    <tr style=\"text-align: right;\">\n",
       "      <th></th>\n",
       "      <th>ph</th>\n",
       "      <th>Hardness</th>\n",
       "      <th>Solids</th>\n",
       "      <th>Chloramines</th>\n",
       "      <th>Sulfate</th>\n",
       "      <th>Conductivity</th>\n",
       "      <th>Organic_carbon</th>\n",
       "      <th>Trihalomethanes</th>\n",
       "      <th>Turbidity</th>\n",
       "      <th>Potability</th>\n",
       "    </tr>\n",
       "  </thead>\n",
       "  <tbody>\n",
       "    <tr>\n",
       "      <th>ph</th>\n",
       "      <td>1.000000</td>\n",
       "      <td>0.075833</td>\n",
       "      <td>-0.081884</td>\n",
       "      <td>-0.031811</td>\n",
       "      <td>0.010523</td>\n",
       "      <td>0.017192</td>\n",
       "      <td>0.040061</td>\n",
       "      <td>0.002994</td>\n",
       "      <td>-0.036222</td>\n",
       "      <td>-0.003287</td>\n",
       "    </tr>\n",
       "    <tr>\n",
       "      <th>Hardness</th>\n",
       "      <td>0.075833</td>\n",
       "      <td>1.000000</td>\n",
       "      <td>-0.046899</td>\n",
       "      <td>-0.030054</td>\n",
       "      <td>-0.058048</td>\n",
       "      <td>-0.023915</td>\n",
       "      <td>0.003610</td>\n",
       "      <td>-0.012690</td>\n",
       "      <td>-0.014449</td>\n",
       "      <td>-0.013837</td>\n",
       "    </tr>\n",
       "    <tr>\n",
       "      <th>Solids</th>\n",
       "      <td>-0.081884</td>\n",
       "      <td>-0.046899</td>\n",
       "      <td>1.000000</td>\n",
       "      <td>-0.070148</td>\n",
       "      <td>-0.073495</td>\n",
       "      <td>0.013831</td>\n",
       "      <td>0.010242</td>\n",
       "      <td>-0.008875</td>\n",
       "      <td>0.019546</td>\n",
       "      <td>0.033743</td>\n",
       "    </tr>\n",
       "    <tr>\n",
       "      <th>Chloramines</th>\n",
       "      <td>-0.031811</td>\n",
       "      <td>-0.030054</td>\n",
       "      <td>-0.070148</td>\n",
       "      <td>1.000000</td>\n",
       "      <td>0.010185</td>\n",
       "      <td>-0.020486</td>\n",
       "      <td>-0.012653</td>\n",
       "      <td>0.016627</td>\n",
       "      <td>0.002363</td>\n",
       "      <td>0.023779</td>\n",
       "    </tr>\n",
       "    <tr>\n",
       "      <th>Sulfate</th>\n",
       "      <td>0.010523</td>\n",
       "      <td>-0.058048</td>\n",
       "      <td>-0.073495</td>\n",
       "      <td>0.010185</td>\n",
       "      <td>1.000000</td>\n",
       "      <td>-0.020208</td>\n",
       "      <td>0.034355</td>\n",
       "      <td>-0.023300</td>\n",
       "      <td>-0.003089</td>\n",
       "      <td>0.003002</td>\n",
       "    </tr>\n",
       "    <tr>\n",
       "      <th>Conductivity</th>\n",
       "      <td>0.017192</td>\n",
       "      <td>-0.023915</td>\n",
       "      <td>0.013831</td>\n",
       "      <td>-0.020486</td>\n",
       "      <td>-0.020208</td>\n",
       "      <td>1.000000</td>\n",
       "      <td>0.020966</td>\n",
       "      <td>0.001255</td>\n",
       "      <td>0.005798</td>\n",
       "      <td>-0.008128</td>\n",
       "    </tr>\n",
       "    <tr>\n",
       "      <th>Organic_carbon</th>\n",
       "      <td>0.040061</td>\n",
       "      <td>0.003610</td>\n",
       "      <td>0.010242</td>\n",
       "      <td>-0.012653</td>\n",
       "      <td>0.034355</td>\n",
       "      <td>0.020966</td>\n",
       "      <td>1.000000</td>\n",
       "      <td>-0.012976</td>\n",
       "      <td>-0.027308</td>\n",
       "      <td>-0.030001</td>\n",
       "    </tr>\n",
       "    <tr>\n",
       "      <th>Trihalomethanes</th>\n",
       "      <td>0.002994</td>\n",
       "      <td>-0.012690</td>\n",
       "      <td>-0.008875</td>\n",
       "      <td>0.016627</td>\n",
       "      <td>-0.023300</td>\n",
       "      <td>0.001255</td>\n",
       "      <td>-0.012976</td>\n",
       "      <td>1.000000</td>\n",
       "      <td>-0.021502</td>\n",
       "      <td>0.006960</td>\n",
       "    </tr>\n",
       "    <tr>\n",
       "      <th>Turbidity</th>\n",
       "      <td>-0.036222</td>\n",
       "      <td>-0.014449</td>\n",
       "      <td>0.019546</td>\n",
       "      <td>0.002363</td>\n",
       "      <td>-0.003089</td>\n",
       "      <td>0.005798</td>\n",
       "      <td>-0.027308</td>\n",
       "      <td>-0.021502</td>\n",
       "      <td>1.000000</td>\n",
       "      <td>0.001581</td>\n",
       "    </tr>\n",
       "    <tr>\n",
       "      <th>Potability</th>\n",
       "      <td>-0.003287</td>\n",
       "      <td>-0.013837</td>\n",
       "      <td>0.033743</td>\n",
       "      <td>0.023779</td>\n",
       "      <td>0.003002</td>\n",
       "      <td>-0.008128</td>\n",
       "      <td>-0.030001</td>\n",
       "      <td>0.006960</td>\n",
       "      <td>0.001581</td>\n",
       "      <td>1.000000</td>\n",
       "    </tr>\n",
       "  </tbody>\n",
       "</table>\n",
       "</div>"
      ],
      "text/plain": [
       "                       ph  Hardness    Solids  Chloramines   Sulfate  Conductivity  Organic_carbon  Trihalomethanes  Turbidity  Potability\n",
       "ph               1.000000  0.075833 -0.081884    -0.031811  0.010523      0.017192        0.040061         0.002994  -0.036222   -0.003287\n",
       "Hardness         0.075833  1.000000 -0.046899    -0.030054 -0.058048     -0.023915        0.003610        -0.012690  -0.014449   -0.013837\n",
       "Solids          -0.081884 -0.046899  1.000000    -0.070148 -0.073495      0.013831        0.010242        -0.008875   0.019546    0.033743\n",
       "Chloramines     -0.031811 -0.030054 -0.070148     1.000000  0.010185     -0.020486       -0.012653         0.016627   0.002363    0.023779\n",
       "Sulfate          0.010523 -0.058048 -0.073495     0.010185  1.000000     -0.020208        0.034355        -0.023300  -0.003089    0.003002\n",
       "Conductivity     0.017192 -0.023915  0.013831    -0.020486 -0.020208      1.000000        0.020966         0.001255   0.005798   -0.008128\n",
       "Organic_carbon   0.040061  0.003610  0.010242    -0.012653  0.034355      0.020966        1.000000        -0.012976  -0.027308   -0.030001\n",
       "Trihalomethanes  0.002994 -0.012690 -0.008875     0.016627 -0.023300      0.001255       -0.012976         1.000000  -0.021502    0.006960\n",
       "Turbidity       -0.036222 -0.014449  0.019546     0.002363 -0.003089      0.005798       -0.027308        -0.021502   1.000000    0.001581\n",
       "Potability      -0.003287 -0.013837  0.033743     0.023779  0.003002     -0.008128       -0.030001         0.006960   0.001581    1.000000"
      ]
     },
     "execution_count": 15,
     "metadata": {},
     "output_type": "execute_result"
    }
   ],
   "source": [
    "# Make a correlation data to knowing Value Strength and Direction of Linear Relationship\n",
    "corr = waterData.corr()\n",
    "corr"
   ]
  },
  {
   "cell_type": "code",
   "execution_count": 16,
   "id": "0b869f20",
   "metadata": {
    "execution": {
     "iopub.execute_input": "2021-08-15T10:11:27.236506Z",
     "iopub.status.busy": "2021-08-15T10:11:27.235889Z",
     "iopub.status.idle": "2021-08-15T10:11:27.238932Z",
     "shell.execute_reply": "2021-08-15T10:11:27.239478Z",
     "shell.execute_reply.started": "2021-08-15T10:03:29.936085Z"
    },
    "papermill": {
     "duration": 0.066165,
     "end_time": "2021-08-15T10:11:27.239653",
     "exception": false,
     "start_time": "2021-08-15T10:11:27.173488",
     "status": "completed"
    },
    "tags": []
   },
   "outputs": [
    {
     "data": {
      "text/html": [
       "<div>\n",
       "<style scoped>\n",
       "    .dataframe tbody tr th:only-of-type {\n",
       "        vertical-align: middle;\n",
       "    }\n",
       "\n",
       "    .dataframe tbody tr th {\n",
       "        vertical-align: top;\n",
       "    }\n",
       "\n",
       "    .dataframe thead th {\n",
       "        text-align: right;\n",
       "    }\n",
       "</style>\n",
       "<table border=\"1\" class=\"dataframe\">\n",
       "  <thead>\n",
       "    <tr style=\"text-align: right;\">\n",
       "      <th></th>\n",
       "      <th>136</th>\n",
       "      <th>600</th>\n",
       "      <th>1784</th>\n",
       "      <th>3061</th>\n",
       "      <th>2779</th>\n",
       "      <th>1334</th>\n",
       "      <th>366</th>\n",
       "      <th>2164</th>\n",
       "      <th>393</th>\n",
       "      <th>984</th>\n",
       "      <th>1946</th>\n",
       "    </tr>\n",
       "  </thead>\n",
       "  <tbody>\n",
       "    <tr>\n",
       "      <th>ph</th>\n",
       "      <td>6.063355</td>\n",
       "      <td>7.080795</td>\n",
       "      <td>9.252857</td>\n",
       "      <td>3.989032</td>\n",
       "      <td>9.454119</td>\n",
       "      <td>5.742533</td>\n",
       "      <td>4.037288</td>\n",
       "      <td>7.038092</td>\n",
       "      <td>6.775583</td>\n",
       "      <td>7.080795</td>\n",
       "      <td>6.628427</td>\n",
       "    </tr>\n",
       "    <tr>\n",
       "      <th>Hardness</th>\n",
       "      <td>160.767311</td>\n",
       "      <td>233.020134</td>\n",
       "      <td>168.040751</td>\n",
       "      <td>216.076138</td>\n",
       "      <td>224.817132</td>\n",
       "      <td>182.941032</td>\n",
       "      <td>291.461897</td>\n",
       "      <td>204.923285</td>\n",
       "      <td>218.414929</td>\n",
       "      <td>238.409598</td>\n",
       "      <td>215.245532</td>\n",
       "    </tr>\n",
       "    <tr>\n",
       "      <th>Solids</th>\n",
       "      <td>14775.145596</td>\n",
       "      <td>27071.118618</td>\n",
       "      <td>50279.262429</td>\n",
       "      <td>40175.206091</td>\n",
       "      <td>21379.963927</td>\n",
       "      <td>21293.889754</td>\n",
       "      <td>52318.917298</td>\n",
       "      <td>24607.088098</td>\n",
       "      <td>17968.882775</td>\n",
       "      <td>26493.076207</td>\n",
       "      <td>18059.330852</td>\n",
       "    </tr>\n",
       "    <tr>\n",
       "      <th>Chloramines</th>\n",
       "      <td>7.484104</td>\n",
       "      <td>6.220936</td>\n",
       "      <td>5.905056</td>\n",
       "      <td>7.487423</td>\n",
       "      <td>5.407692</td>\n",
       "      <td>6.826413</td>\n",
       "      <td>7.779459</td>\n",
       "      <td>8.080156</td>\n",
       "      <td>8.254115</td>\n",
       "      <td>8.669944</td>\n",
       "      <td>6.931787</td>\n",
       "    </tr>\n",
       "    <tr>\n",
       "      <th>Sulfate</th>\n",
       "      <td>305.828553</td>\n",
       "      <td>298.112645</td>\n",
       "      <td>415.450810</td>\n",
       "      <td>309.800796</td>\n",
       "      <td>227.665635</td>\n",
       "      <td>306.543072</td>\n",
       "      <td>204.775777</td>\n",
       "      <td>280.745623</td>\n",
       "      <td>204.775777</td>\n",
       "      <td>311.553679</td>\n",
       "      <td>204.775777</td>\n",
       "    </tr>\n",
       "    <tr>\n",
       "      <th>Conductivity</th>\n",
       "      <td>327.270239</td>\n",
       "      <td>357.119622</td>\n",
       "      <td>400.003589</td>\n",
       "      <td>399.047181</td>\n",
       "      <td>431.613001</td>\n",
       "      <td>435.234727</td>\n",
       "      <td>401.204271</td>\n",
       "      <td>365.845248</td>\n",
       "      <td>358.717677</td>\n",
       "      <td>369.283864</td>\n",
       "      <td>374.455062</td>\n",
       "    </tr>\n",
       "    <tr>\n",
       "      <th>Organic_carbon</th>\n",
       "      <td>12.309016</td>\n",
       "      <td>16.768945</td>\n",
       "      <td>11.949854</td>\n",
       "      <td>11.186739</td>\n",
       "      <td>15.772334</td>\n",
       "      <td>11.144072</td>\n",
       "      <td>16.542921</td>\n",
       "      <td>10.807557</td>\n",
       "      <td>10.520161</td>\n",
       "      <td>11.759930</td>\n",
       "      <td>11.621074</td>\n",
       "    </tr>\n",
       "    <tr>\n",
       "      <th>Trihalomethanes</th>\n",
       "      <td>69.038454</td>\n",
       "      <td>51.284401</td>\n",
       "      <td>62.256881</td>\n",
       "      <td>86.957464</td>\n",
       "      <td>52.033845</td>\n",
       "      <td>68.612391</td>\n",
       "      <td>87.814800</td>\n",
       "      <td>59.912442</td>\n",
       "      <td>57.244111</td>\n",
       "      <td>91.239299</td>\n",
       "      <td>77.940822</td>\n",
       "    </tr>\n",
       "    <tr>\n",
       "      <th>Turbidity</th>\n",
       "      <td>3.467337</td>\n",
       "      <td>4.284879</td>\n",
       "      <td>3.300586</td>\n",
       "      <td>4.409414</td>\n",
       "      <td>4.058626</td>\n",
       "      <td>4.272203</td>\n",
       "      <td>3.045049</td>\n",
       "      <td>4.237698</td>\n",
       "      <td>4.333636</td>\n",
       "      <td>3.241267</td>\n",
       "      <td>3.405279</td>\n",
       "    </tr>\n",
       "    <tr>\n",
       "      <th>Potability</th>\n",
       "      <td>0.000000</td>\n",
       "      <td>0.000000</td>\n",
       "      <td>0.000000</td>\n",
       "      <td>0.000000</td>\n",
       "      <td>1.000000</td>\n",
       "      <td>0.000000</td>\n",
       "      <td>1.000000</td>\n",
       "      <td>0.000000</td>\n",
       "      <td>1.000000</td>\n",
       "      <td>0.000000</td>\n",
       "      <td>1.000000</td>\n",
       "    </tr>\n",
       "  </tbody>\n",
       "</table>\n",
       "</div>"
      ],
      "text/plain": [
       "                         136           600           1784          3061          2779          1334          366           2164          393   \\\n",
       "ph                   6.063355      7.080795      9.252857      3.989032      9.454119      5.742533      4.037288      7.038092      6.775583   \n",
       "Hardness           160.767311    233.020134    168.040751    216.076138    224.817132    182.941032    291.461897    204.923285    218.414929   \n",
       "Solids           14775.145596  27071.118618  50279.262429  40175.206091  21379.963927  21293.889754  52318.917298  24607.088098  17968.882775   \n",
       "Chloramines          7.484104      6.220936      5.905056      7.487423      5.407692      6.826413      7.779459      8.080156      8.254115   \n",
       "Sulfate            305.828553    298.112645    415.450810    309.800796    227.665635    306.543072    204.775777    280.745623    204.775777   \n",
       "Conductivity       327.270239    357.119622    400.003589    399.047181    431.613001    435.234727    401.204271    365.845248    358.717677   \n",
       "Organic_carbon      12.309016     16.768945     11.949854     11.186739     15.772334     11.144072     16.542921     10.807557     10.520161   \n",
       "Trihalomethanes     69.038454     51.284401     62.256881     86.957464     52.033845     68.612391     87.814800     59.912442     57.244111   \n",
       "Turbidity            3.467337      4.284879      3.300586      4.409414      4.058626      4.272203      3.045049      4.237698      4.333636   \n",
       "Potability           0.000000      0.000000      0.000000      0.000000      1.000000      0.000000      1.000000      0.000000      1.000000   \n",
       "\n",
       "                         984           1946  \n",
       "ph                   7.080795      6.628427  \n",
       "Hardness           238.409598    215.245532  \n",
       "Solids           26493.076207  18059.330852  \n",
       "Chloramines          8.669944      6.931787  \n",
       "Sulfate            311.553679    204.775777  \n",
       "Conductivity       369.283864    374.455062  \n",
       "Organic_carbon      11.759930     11.621074  \n",
       "Trihalomethanes     91.239299     77.940822  \n",
       "Turbidity            3.241267      3.405279  \n",
       "Potability           0.000000      1.000000  "
      ]
     },
     "execution_count": 16,
     "metadata": {},
     "output_type": "execute_result"
    }
   ],
   "source": [
    "# Checking the structure of the data\n",
    "waterData.sample(11, random_state=1).T"
   ]
  },
  {
   "cell_type": "code",
   "execution_count": 17,
   "id": "0cf9989c",
   "metadata": {
    "execution": {
     "iopub.execute_input": "2021-08-15T10:11:27.323733Z",
     "iopub.status.busy": "2021-08-15T10:11:27.323134Z",
     "iopub.status.idle": "2021-08-15T10:11:28.315889Z",
     "shell.execute_reply": "2021-08-15T10:11:28.315233Z",
     "shell.execute_reply.started": "2021-08-15T10:03:29.962306Z"
    },
    "papermill": {
     "duration": 1.035814,
     "end_time": "2021-08-15T10:11:28.316029",
     "exception": false,
     "start_time": "2021-08-15T10:11:27.280215",
     "status": "completed"
    },
    "tags": []
   },
   "outputs": [
    {
     "data": {
      "text/plain": [
       "[]"
      ]
     },
     "execution_count": 17,
     "metadata": {},
     "output_type": "execute_result"
    },
    {
     "data": {
      "image/png": "[encoded data removed]",
      "text/plain": [
       "<Figure size 864x720 with 2 Axes>"
      ]
     },
     "metadata": {},
     "output_type": "display_data"
    }
   ],
   "source": [
    "# Constructing a heatmap to understand the correlation\n",
    "plt.figure(figsize=(12, 10))\n",
    "sns.heatmap(corr, cbar=True, square=True, fmt='.1f', annot=True, annot_kws={'size': 8}, cmap='YlGnBu')\n",
    "plt.plot()"
   ]
  },
  {
   "cell_type": "code",
   "execution_count": 18,
   "id": "6b86cc13",
   "metadata": {
    "execution": {
     "iopub.execute_input": "2021-08-15T10:11:28.409195Z",
     "iopub.status.busy": "2021-08-15T10:11:28.408243Z",
     "iopub.status.idle": "2021-08-15T10:11:28.887527Z",
     "shell.execute_reply": "2021-08-15T10:11:28.886933Z",
     "shell.execute_reply.started": "2021-08-15T10:03:30.879129Z"
    },
    "papermill": {
     "duration": 0.52868,
     "end_time": "2021-08-15T10:11:28.887691",
     "exception": false,
     "start_time": "2021-08-15T10:11:28.359011",
     "status": "completed"
    },
    "tags": []
   },
   "outputs": [
    {
     "data": {
      "image/png": "[encoded data removed]",
      "text/plain": [
       "<Figure size 432x288 with 1 Axes>"
      ]
     },
     "metadata": {},
     "output_type": "display_data"
    }
   ],
   "source": [
    "# Create Regression Plot\n",
    "sns.regplot(x=waterData.Hardness, y=waterData.Potability, data=waterData)\n",
    "plt.show()"
   ]
  },
  {
   "cell_type": "code",
   "execution_count": 19,
   "id": "c3d5a364",
   "metadata": {
    "execution": {
     "iopub.execute_input": "2021-08-15T10:11:28.981996Z",
     "iopub.status.busy": "2021-08-15T10:11:28.981230Z",
     "iopub.status.idle": "2021-08-15T10:11:30.496705Z",
     "shell.execute_reply": "2021-08-15T10:11:30.496084Z",
     "shell.execute_reply.started": "2021-08-15T10:03:31.367246Z"
    },
    "papermill": {
     "duration": 1.565201,
     "end_time": "2021-08-15T10:11:30.496852",
     "exception": false,
     "start_time": "2021-08-15T10:11:28.931651",
     "status": "completed"
    },
    "tags": []
   },
   "outputs": [
    {
     "data": {
      "image/png": "[encoded data removed]",
      "text/plain": [
       "<Figure size 864x864 with 12 Axes>"
      ]
     },
     "metadata": {},
     "output_type": "display_data"
    }
   ],
   "source": [
    "# Create a histogram plot\n",
    "waterData.hist(figsize=(12,12))\n",
    "plt.show()"
   ]
  },
  {
   "cell_type": "markdown",
   "id": "ab062504",
   "metadata": {
    "papermill": {
     "duration": 0.04495,
     "end_time": "2021-08-15T10:11:30.587169",
     "exception": false,
     "start_time": "2021-08-15T10:11:30.542219",
     "status": "completed"
    },
    "tags": []
   },
   "source": [
    "**Coefficient of Variation**\n",
    "\n",
    "The coefficient of variation is a measure of variance that can be used to compare a data distribution that has different units.\n",
    "\n",
    "* **The higher the Coefficient of Variation** = the wider the data you have compared to the average data (more difficult to predict)\n",
    "* **The Lower Coefficient of Variation** = The narrower the data you have compared to the Average data (Easier to predict)"
   ]
  },
  {
   "cell_type": "code",
   "execution_count": 20,
   "id": "d0e84585",
   "metadata": {
    "execution": {
     "iopub.execute_input": "2021-08-15T10:11:30.683219Z",
     "iopub.status.busy": "2021-08-15T10:11:30.682504Z",
     "iopub.status.idle": "2021-08-15T10:11:30.686592Z",
     "shell.execute_reply": "2021-08-15T10:11:30.685800Z",
     "shell.execute_reply.started": "2021-08-15T10:03:33.046484Z"
    },
    "papermill": {
     "duration": 0.054315,
     "end_time": "2021-08-15T10:11:30.686784",
     "exception": false,
     "start_time": "2021-08-15T10:11:30.632469",
     "status": "completed"
    },
    "tags": []
   },
   "outputs": [
    {
     "name": "stdout",
     "output_type": "stream",
     "text": [
      "Coefficient Of Variation Potability : 125.05429419716239%\n"
     ]
    }
   ],
   "source": [
    "# Coefficient of Potability\n",
    "covPota = ((waterData['Potability'].std()/waterData['Potability'].mean()) * 100)\n",
    "print(f'Coefficient Of Variation Potability : {covPota}%')"
   ]
  },
  {
   "cell_type": "markdown",
   "id": "060040a0",
   "metadata": {
    "papermill": {
     "duration": 0.045533,
     "end_time": "2021-08-15T10:11:30.779098",
     "exception": false,
     "start_time": "2021-08-15T10:11:30.733565",
     "status": "completed"
    },
    "tags": []
   },
   "source": [
    "as you can see the output above, the coefficient of variation is so high, which mean, is so difficult to predict "
   ]
  },
  {
   "cell_type": "code",
   "execution_count": 21,
   "id": "b27c69e5",
   "metadata": {
    "execution": {
     "iopub.execute_input": "2021-08-15T10:11:30.877330Z",
     "iopub.status.busy": "2021-08-15T10:11:30.876649Z",
     "iopub.status.idle": "2021-08-15T10:11:30.879473Z",
     "shell.execute_reply": "2021-08-15T10:11:30.878962Z",
     "shell.execute_reply.started": "2021-08-15T10:03:33.053919Z"
    },
    "papermill": {
     "duration": 0.054641,
     "end_time": "2021-08-15T10:11:30.879627",
     "exception": false,
     "start_time": "2021-08-15T10:11:30.824986",
     "status": "completed"
    },
    "tags": []
   },
   "outputs": [],
   "source": [
    "# Getting the Mutual Information about the data\n",
    "X = waterData.copy()\n",
    "y = X.pop('Potability')\n",
    "\n",
    "# All discrete features should now have integer dtypes\n",
    "discreateFeatures = X.dtypes == int"
   ]
  },
  {
   "cell_type": "code",
   "execution_count": 22,
   "id": "6a48530a",
   "metadata": {
    "execution": {
     "iopub.execute_input": "2021-08-15T10:11:30.979354Z",
     "iopub.status.busy": "2021-08-15T10:11:30.978738Z",
     "iopub.status.idle": "2021-08-15T10:11:31.783830Z",
     "shell.execute_reply": "2021-08-15T10:11:31.784332Z",
     "shell.execute_reply.started": "2021-08-15T10:03:33.067662Z"
    },
    "papermill": {
     "duration": 0.858646,
     "end_time": "2021-08-15T10:11:31.784535",
     "exception": false,
     "start_time": "2021-08-15T10:11:30.925889",
     "status": "completed"
    },
    "tags": []
   },
   "outputs": [
    {
     "data": {
      "text/plain": [
       "Hardness           0.026560\n",
       "Conductivity       0.007077\n",
       "Organic_carbon     0.004014\n",
       "Turbidity          0.003075\n",
       "ph                 0.002507\n",
       "Solids             0.001066\n",
       "Chloramines        0.000000\n",
       "Sulfate            0.000000\n",
       "Trihalomethanes    0.000000\n",
       "Name: MI Scores, dtype: float64"
      ]
     },
     "execution_count": 22,
     "metadata": {},
     "output_type": "execute_result"
    }
   ],
   "source": [
    "# Make a function\n",
    "def makeMiScores(X, y, discreateFeatures):\n",
    "    miScores = mutual_info_regression(X, y, discrete_features=discreateFeatures)\n",
    "    miScores = pd.Series(miScores, name='MI Scores', index=X.columns)\n",
    "    miScores = miScores.sort_values(ascending=False)\n",
    "    return miScores\n",
    "\n",
    "miScores = makeMiScores(X, y, discreateFeatures)\n",
    "miScores # show a features with their MI scores"
   ]
  },
  {
   "cell_type": "code",
   "execution_count": 23,
   "id": "34f3b555",
   "metadata": {
    "execution": {
     "iopub.execute_input": "2021-08-15T10:11:31.903598Z",
     "iopub.status.busy": "2021-08-15T10:11:31.900487Z",
     "iopub.status.idle": "2021-08-15T10:11:32.129176Z",
     "shell.execute_reply": "2021-08-15T10:11:32.128639Z",
     "shell.execute_reply.started": "2021-08-15T10:03:34.032899Z"
    },
    "papermill": {
     "duration": 0.298717,
     "end_time": "2021-08-15T10:11:32.129321",
     "exception": false,
     "start_time": "2021-08-15T10:11:31.830604",
     "status": "completed"
    },
    "tags": []
   },
   "outputs": [
    {
     "data": {
      "image/png": "[encoded data removed]",
      "text/plain": [
       "<Figure size 600x300 with 1 Axes>"
      ]
     },
     "metadata": {},
     "output_type": "display_data"
    }
   ],
   "source": [
    "# And now bar plot to make comparisons easier\n",
    "def plotMiScores(scores):\n",
    "    scores = scores.sort_values(ascending=True)\n",
    "    width = np.arange(len(scores))\n",
    "    ticks = list(scores.index)\n",
    "    plt.barh(width, scores)\n",
    "    plt.yticks(width, ticks)\n",
    "    plt.title(\"Mutual Information Scores\")\n",
    "\n",
    "# Figuring the plot and plotting\n",
    "plt.figure(dpi=100, figsize=(6, 3))\n",
    "plotMiScores(miScores)"
   ]
  },
  {
   "cell_type": "markdown",
   "id": "974b2128",
   "metadata": {
    "papermill": {
     "duration": 0.047604,
     "end_time": "2021-08-15T10:11:32.224978",
     "exception": false,
     "start_time": "2021-08-15T10:11:32.177374",
     "status": "completed"
    },
    "tags": []
   },
   "source": [
    "Data visualization is a great follow-up to a utility ranking. as we can see the **Hardness, Conductivity, Organic, Turbidity, Solids, and ph have a mutual information** with Potability."
   ]
  },
  {
   "cell_type": "markdown",
   "id": "79ed36f5",
   "metadata": {
    "papermill": {
     "duration": 0.047334,
     "end_time": "2021-08-15T10:11:32.319639",
     "exception": false,
     "start_time": "2021-08-15T10:11:32.272305",
     "status": "completed"
    },
    "tags": []
   },
   "source": [
    "# **Splitting the Data**\n",
    "\n",
    "divide the data and split it using train test split module from sklearn."
   ]
  },
  {
   "cell_type": "code",
   "execution_count": 24,
   "id": "bfff5ada",
   "metadata": {
    "execution": {
     "iopub.execute_input": "2021-08-15T10:11:32.421482Z",
     "iopub.status.busy": "2021-08-15T10:11:32.420892Z",
     "iopub.status.idle": "2021-08-15T10:11:32.424141Z",
     "shell.execute_reply": "2021-08-15T10:11:32.423634Z",
     "shell.execute_reply.started": "2021-08-15T10:03:34.294342Z"
    },
    "papermill": {
     "duration": 0.057077,
     "end_time": "2021-08-15T10:11:32.424272",
     "exception": false,
     "start_time": "2021-08-15T10:11:32.367195",
     "status": "completed"
    },
    "tags": []
   },
   "outputs": [],
   "source": [
    "# Divide the data\n",
    "X = waterData.drop(['Potability'], axis=1)\n",
    "y = waterData['Potability']"
   ]
  },
  {
   "cell_type": "code",
   "execution_count": 25,
   "id": "45e76862",
   "metadata": {
    "execution": {
     "iopub.execute_input": "2021-08-15T10:11:32.525767Z",
     "iopub.status.busy": "2021-08-15T10:11:32.524160Z",
     "iopub.status.idle": "2021-08-15T10:11:32.527612Z",
     "shell.execute_reply": "2021-08-15T10:11:32.528206Z",
     "shell.execute_reply.started": "2021-08-15T10:03:34.302675Z"
    },
    "papermill": {
     "duration": 0.057035,
     "end_time": "2021-08-15T10:11:32.528384",
     "exception": false,
     "start_time": "2021-08-15T10:11:32.471349",
     "status": "completed"
    },
    "tags": []
   },
   "outputs": [],
   "source": [
    "# Splitting Data\n",
    "trainX, testX, \\\n",
    "trainY, testY = train_test_split(X, y, \n",
    "                                test_size=.1, \n",
    "                                random_state=12)"
   ]
  },
  {
   "cell_type": "code",
   "execution_count": 26,
   "id": "4a92888a",
   "metadata": {
    "execution": {
     "iopub.execute_input": "2021-08-15T10:11:32.628960Z",
     "iopub.status.busy": "2021-08-15T10:11:32.628365Z",
     "iopub.status.idle": "2021-08-15T10:11:32.634497Z",
     "shell.execute_reply": "2021-08-15T10:11:32.635163Z",
     "shell.execute_reply.started": "2021-08-15T10:03:34.316918Z"
    },
    "papermill": {
     "duration": 0.056352,
     "end_time": "2021-08-15T10:11:32.635329",
     "exception": false,
     "start_time": "2021-08-15T10:11:32.578977",
     "status": "completed"
    },
    "tags": []
   },
   "outputs": [
    {
     "data": {
      "text/plain": [
       "0    1801\n",
       "1    1147\n",
       "Name: Potability, dtype: int64"
      ]
     },
     "execution_count": 26,
     "metadata": {},
     "output_type": "execute_result"
    }
   ],
   "source": [
    "# Checking the Target\n",
    "trainY.value_counts()"
   ]
  },
  {
   "cell_type": "code",
   "execution_count": 27,
   "id": "09924691",
   "metadata": {
    "execution": {
     "iopub.execute_input": "2021-08-15T10:11:32.733663Z",
     "iopub.status.busy": "2021-08-15T10:11:32.733051Z",
     "iopub.status.idle": "2021-08-15T10:11:32.739107Z",
     "shell.execute_reply": "2021-08-15T10:11:32.739690Z",
     "shell.execute_reply.started": "2021-08-15T10:03:34.330323Z"
    },
    "papermill": {
     "duration": 0.056743,
     "end_time": "2021-08-15T10:11:32.739845",
     "exception": false,
     "start_time": "2021-08-15T10:11:32.683102",
     "status": "completed"
    },
    "tags": []
   },
   "outputs": [
    {
     "data": {
      "text/plain": [
       "0    197\n",
       "1    131\n",
       "Name: Potability, dtype: int64"
      ]
     },
     "execution_count": 27,
     "metadata": {},
     "output_type": "execute_result"
    }
   ],
   "source": [
    "# Checking the Target\n",
    "testY.value_counts()"
   ]
  },
  {
   "cell_type": "markdown",
   "id": "6ebb0235",
   "metadata": {
    "papermill": {
     "duration": 0.047917,
     "end_time": "2021-08-15T10:11:32.835433",
     "exception": false,
     "start_time": "2021-08-15T10:11:32.787516",
     "status": "completed"
    },
    "tags": []
   },
   "source": [
    "# **Upsampling the Target**\n",
    "\n",
    "upsampling the target using SMOTE, upsampling the target, because we can see the portability and not portability data is have a  huge difference."
   ]
  },
  {
   "cell_type": "code",
   "execution_count": 28,
   "id": "22e8ded3",
   "metadata": {
    "execution": {
     "iopub.execute_input": "2021-08-15T10:11:32.935029Z",
     "iopub.status.busy": "2021-08-15T10:11:32.934423Z",
     "iopub.status.idle": "2021-08-15T10:11:32.949842Z",
     "shell.execute_reply": "2021-08-15T10:11:32.950337Z",
     "shell.execute_reply.started": "2021-08-15T10:08:34.851893Z"
    },
    "papermill": {
     "duration": 0.066607,
     "end_time": "2021-08-15T10:11:32.950503",
     "exception": false,
     "start_time": "2021-08-15T10:11:32.883896",
     "status": "completed"
    },
    "tags": []
   },
   "outputs": [],
   "source": [
    "sm = SMOTE(random_state=12)\n",
    "trainXres, trainYres = sm.fit_resample(trainX, trainY)"
   ]
  },
  {
   "cell_type": "markdown",
   "id": "d83faafd",
   "metadata": {
    "papermill": {
     "duration": 0.048015,
     "end_time": "2021-08-15T10:11:33.046730",
     "exception": false,
     "start_time": "2021-08-15T10:11:32.998715",
     "status": "completed"
    },
    "tags": []
   },
   "source": [
    "# **Train and Fit the model**\n",
    "\n",
    "Train and fit the model using **RandomForestClassifier** Algorithm."
   ]
  },
  {
   "cell_type": "code",
   "execution_count": 29,
   "id": "8269441c",
   "metadata": {
    "execution": {
     "iopub.execute_input": "2021-08-15T10:11:33.146754Z",
     "iopub.status.busy": "2021-08-15T10:11:33.146158Z",
     "iopub.status.idle": "2021-08-15T10:11:39.249501Z",
     "shell.execute_reply": "2021-08-15T10:11:39.248967Z",
     "shell.execute_reply.started": "2021-08-15T10:08:38.021063Z"
    },
    "papermill": {
     "duration": 6.154499,
     "end_time": "2021-08-15T10:11:39.249666",
     "exception": false,
     "start_time": "2021-08-15T10:11:33.095167",
     "status": "completed"
    },
    "tags": []
   },
   "outputs": [],
   "source": [
    "model = RandomForestClassifier(n_estimators=500, min_samples_leaf=1, random_state=12)\n",
    "model = model.fit(trainXres, trainYres)"
   ]
  },
  {
   "cell_type": "markdown",
   "id": "417ce52e",
   "metadata": {
    "papermill": {
     "duration": 0.048165,
     "end_time": "2021-08-15T10:11:39.345938",
     "exception": false,
     "start_time": "2021-08-15T10:11:39.297773",
     "status": "completed"
    },
    "tags": []
   },
   "source": [
    "**Pipelines** are a simple way to keep your data preprocessing and modeling code organized. Specifically, a pipeline bundles preprocessing and modeling steps so you can use the whole bundle as if it were a single step."
   ]
  },
  {
   "cell_type": "code",
   "execution_count": 30,
   "id": "ade49a19",
   "metadata": {
    "execution": {
     "iopub.execute_input": "2021-08-15T10:11:39.447425Z",
     "iopub.status.busy": "2021-08-15T10:11:39.446784Z",
     "iopub.status.idle": "2021-08-15T10:11:39.450028Z",
     "shell.execute_reply": "2021-08-15T10:11:39.449534Z",
     "shell.execute_reply.started": "2021-08-15T10:08:47.991057Z"
    },
    "papermill": {
     "duration": 0.055777,
     "end_time": "2021-08-15T10:11:39.450163",
     "exception": false,
     "start_time": "2021-08-15T10:11:39.394386",
     "status": "completed"
    },
    "tags": []
   },
   "outputs": [],
   "source": [
    "myPipeline = Pipeline(steps=[('model', model)])"
   ]
  },
  {
   "cell_type": "code",
   "execution_count": 31,
   "id": "1ed7d772",
   "metadata": {
    "execution": {
     "iopub.execute_input": "2021-08-15T10:11:39.553302Z",
     "iopub.status.busy": "2021-08-15T10:11:39.552667Z",
     "iopub.status.idle": "2021-08-15T10:11:39.911408Z",
     "shell.execute_reply": "2021-08-15T10:11:39.910878Z",
     "shell.execute_reply.started": "2021-08-15T10:08:55.781140Z"
    },
    "papermill": {
     "duration": 0.413295,
     "end_time": "2021-08-15T10:11:39.911560",
     "exception": false,
     "start_time": "2021-08-15T10:11:39.498265",
     "status": "completed"
    },
    "tags": []
   },
   "outputs": [
    {
     "name": "stdout",
     "output_type": "stream",
     "text": [
      "              precision    recall  f1-score   support\n",
      "\n",
      "           0       1.00      1.00      1.00      1801\n",
      "           1       1.00      1.00      1.00      1801\n",
      "\n",
      "    accuracy                           1.00      3602\n",
      "   macro avg       1.00      1.00      1.00      3602\n",
      "weighted avg       1.00      1.00      1.00      3602\n",
      "\n"
     ]
    }
   ],
   "source": [
    "# Train Predict\n",
    "predTrain = myPipeline.predict(trainXres)\n",
    "print(metrics.classification_report(trainYres, predTrain))"
   ]
  },
  {
   "cell_type": "code",
   "execution_count": 32,
   "id": "fdd9c430",
   "metadata": {
    "execution": {
     "iopub.execute_input": "2021-08-15T10:11:40.017724Z",
     "iopub.status.busy": "2021-08-15T10:11:40.016715Z",
     "iopub.status.idle": "2021-08-15T10:11:40.115224Z",
     "shell.execute_reply": "2021-08-15T10:11:40.114651Z",
     "shell.execute_reply.started": "2021-08-15T10:08:59.181511Z"
    },
    "papermill": {
     "duration": 0.154739,
     "end_time": "2021-08-15T10:11:40.115372",
     "exception": false,
     "start_time": "2021-08-15T10:11:39.960633",
     "status": "completed"
    },
    "tags": []
   },
   "outputs": [
    {
     "name": "stdout",
     "output_type": "stream",
     "text": [
      "              precision    recall  f1-score   support\n",
      "\n",
      "           0       0.70      0.77      0.73       197\n",
      "           1       0.59      0.51      0.55       131\n",
      "\n",
      "    accuracy                           0.66       328\n",
      "   macro avg       0.65      0.64      0.64       328\n",
      "weighted avg       0.66      0.66      0.66       328\n",
      "\n"
     ]
    }
   ],
   "source": [
    "# Test Predict\n",
    "predTest = myPipeline.predict(testX)\n",
    "print(metrics.classification_report(testY, predTest))"
   ]
  }
 ],
 "metadata": {
  "kernelspec": {
   "display_name": "Python 3",
   "language": "python",
   "name": "python3"
  },
  "language_info": {
   "codemirror_mode": {
    "name": "ipython",
    "version": 3
   },
   "file_extension": ".py",
   "mimetype": "text/x-python",
   "name": "python",
   "nbconvert_exporter": "python",
   "pygments_lexer": "ipython3",
   "version": "3.7.10"
  },
  "papermill": {
   "default_parameters": {},
   "duration": 25.40118,
   "end_time": "2021-08-15T10:11:40.974190",
   "environment_variables": {},
   "exception": null,
   "input_path": "__notebook__.ipynb",
   "output_path": "__notebook__.ipynb",
   "parameters": {},
   "start_time": "2021-08-15T10:11:15.573010",
   "version": "2.3.3"
  }
 },
 "nbformat": 4,
 "nbformat_minor": 5
}
